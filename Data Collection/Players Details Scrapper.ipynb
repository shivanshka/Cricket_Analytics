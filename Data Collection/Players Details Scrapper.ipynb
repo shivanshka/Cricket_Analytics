{
 "cells": [
  {
   "cell_type": "markdown",
   "id": "877aca51",
   "metadata": {},
   "source": [
    "## Scrapping Players Details for T20 Men's Cricket WorldCup 2022"
   ]
  },
  {
   "cell_type": "code",
   "execution_count": 128,
   "id": "32f2930d",
   "metadata": {},
   "outputs": [],
   "source": [
    "from bs4 import BeautifulSoup as bs\n",
    "import requests\n",
    "import pandas as pd\n",
    "from tqdm import tqdm"
   ]
  },
  {
   "cell_type": "code",
   "execution_count": 185,
   "id": "e96b35b2",
   "metadata": {},
   "outputs": [],
   "source": [
    "def page_content_getter(URL:str)-> bs:\n",
    "    try:\n",
    "        page_content = requests.get(URL).content\n",
    "        soup = bs(page_content,\"html.parser\")\n",
    "        return soup\n",
    "    except Exception as e:\n",
    "        print(\"Error occured: \",e)"
   ]
  },
  {
   "cell_type": "code",
   "execution_count": 4,
   "id": "c7ecc65c",
   "metadata": {},
   "outputs": [],
   "source": [
    "URL = \"https://www.espncricinfo.com/series/icc-men-s-t20-world-cup-2022-23-1298134/squads\"\n",
    "home_page = page_content_getter(URL)"
   ]
  },
  {
   "cell_type": "markdown",
   "id": "18992b31",
   "metadata": {},
   "source": [
    "#### Getting links for each team squad"
   ]
  },
  {
   "cell_type": "code",
   "execution_count": 15,
   "id": "50865865",
   "metadata": {},
   "outputs": [],
   "source": [
    "squad_links = home_page.findAll(\"div\",{\"class\":\"ds-mb-4\"})[0].findAll(\"a\")"
   ]
  },
  {
   "cell_type": "code",
   "execution_count": 29,
   "id": "4181848f",
   "metadata": {},
   "outputs": [
    {
     "name": "stdout",
     "output_type": "stream",
     "text": [
      "https://www.espncricinfo.com/series/icc-men-s-t20-world-cup-2022-23-1298134/afghanistan-squad-1334760/series-squads\n",
      "https://www.espncricinfo.com/series/icc-men-s-t20-world-cup-2022-23-1298134/australia-squad-1331879/series-squads\n",
      "https://www.espncricinfo.com/series/icc-men-s-t20-world-cup-2022-23-1298134/bangladesh-squad-1334654/series-squads\n",
      "https://www.espncricinfo.com/series/icc-men-s-t20-world-cup-2022-23-1298134/england-squad-1332100/series-squads\n",
      "https://www.espncricinfo.com/series/icc-men-s-t20-world-cup-2022-23-1298134/india-squad-1334371/series-squads\n",
      "https://www.espncricinfo.com/series/icc-men-s-t20-world-cup-2022-23-1298134/ireland-squad-1336390/series-squads\n",
      "https://www.espncricinfo.com/series/icc-men-s-t20-world-cup-2022-23-1298134/namibia-squad-1335339/series-squads\n",
      "https://www.espncricinfo.com/series/icc-men-s-t20-world-cup-2022-23-1298134/netherlands-squad-1332846/series-squads\n",
      "https://www.espncricinfo.com/series/icc-men-s-t20-world-cup-2022-23-1298134/new-zealand-squad-1335613/series-squads\n",
      "https://www.espncricinfo.com/series/icc-men-s-t20-world-cup-2022-23-1298134/pakistan-squad-1334804/series-squads\n",
      "https://www.espncricinfo.com/series/icc-men-s-t20-world-cup-2022-23-1298134/scotland-squad-1336388/series-squads\n",
      "https://www.espncricinfo.com/series/icc-men-s-t20-world-cup-2022-23-1298134/south-africa-squad-1332756/series-squads\n",
      "https://www.espncricinfo.com/series/icc-men-s-t20-world-cup-2022-23-1298134/sri-lanka-squad-1335180/series-squads\n",
      "https://www.espncricinfo.com/series/icc-men-s-t20-world-cup-2022-23-1298134/united-arab-emirates-squad-1335338/series-squads\n",
      "https://www.espncricinfo.com/series/icc-men-s-t20-world-cup-2022-23-1298134/west-indies-squad-1334700/series-squads\n",
      "https://www.espncricinfo.com/series/icc-men-s-t20-world-cup-2022-23-1298134/zimbabwe-squad-1334837/series-squads\n"
     ]
    }
   ],
   "source": [
    "prefix = \"https://www.espncricinfo.com\"\n",
    "players_url=[]\n",
    "print(f\"{'>'*20} Getting links for each squads in the WorldCup {'<'*20}\")\n",
    "print(f\"{'_'*60}\")\n",
    "for url in tqdm(squad_links):\n",
    "    ur = prefix+url.get(\"href\")\n",
    "    squad = page_content_getter(ur).findAll(\"div\",{\"class\":\"ds-relative ds-flex ds-flex-row ds-space-x-4 ds-p-4 lg:ds-px-6\"})\n",
    "    for link in squad:\n",
    "        players_url.append(prefix+link.a.get(\"href\"))\n",
    "        "
   ]
  },
  {
   "cell_type": "code",
   "execution_count": 129,
   "id": "b0ae602e",
   "metadata": {},
   "outputs": [],
   "source": []
  },
  {
   "cell_type": "markdown",
   "id": "a0e9164c",
   "metadata": {},
   "source": [
    "#### Collection details for each player in the WorldCup Squad"
   ]
  },
  {
   "cell_type": "code",
   "execution_count": 118,
   "id": "94f9882e",
   "metadata": {},
   "outputs": [],
   "source": [
    "player = page_content_getter(players_url[209])"
   ]
  },
  {
   "cell_type": "code",
   "execution_count": 160,
   "id": "2d842f73",
   "metadata": {},
   "outputs": [],
   "source": [
    " def details_fetcher(player:bs)->tuple:\n",
    "    name1 = player.findAll(\"h1\",{\"class\":\"ds-text-title-l ds-font-bold\"})[0].text\n",
    "    team1 = player.findAll(\"span\", {\"class\":\"ds-text-comfortable-s\"})[0].text\n",
    "    \n",
    "    batter_attr = player.findAll(\"span\",{\"class\":\"ds-text-title-s ds-font-bold ds-text-ui-typo\"})\n",
    "    if len(batter_attr) ==6:\n",
    "        bat_style1 = batter_attr[3].h5.text\n",
    "        bowl_style1 = batter_attr[4].h5.text\n",
    "        play_role1 = batter_attr[5].h5.text\n",
    "    else:\n",
    "        bat_style1 = batter_attr[3].h5.text\n",
    "        bowl_style1 = ''\n",
    "        play_role1 = batter_attr[4].h5.text\n",
    "    \n",
    "    description1 = player.findAll(\"div\",{\"class\":\"ci-player-bio-content\"})\n",
    "    if len(description1) != 0:\n",
    "        description1 = description1[0].p.text\n",
    "    else:\n",
    "        description1 = ''\n",
    "    return (name1, team1, bat_style1, bowl_style1, play_role1, description1)"
   ]
  },
  {
   "cell_type": "code",
   "execution_count": 164,
   "id": "e06666b8",
   "metadata": {},
   "outputs": [
    {
     "name": "stdout",
     "output_type": "stream",
     "text": [
      ">>>>>>>>>>>>>>>>>>>> Scrapping players details <<<<<<<<<<<<<<<<<<<<\n",
      "____________________________________________________________\n"
     ]
    },
    {
     "name": "stderr",
     "output_type": "stream",
     "text": [
      "100%|████████████████████████████████████████████████████████████████████████████████| 254/254 [05:41<00:00,  1.34s/it]"
     ]
    },
    {
     "name": "stdout",
     "output_type": "stream",
     "text": [
      "Data Scarpped successfully!!!\n",
      "Saving data into Dataframe........\n"
     ]
    },
    {
     "name": "stderr",
     "output_type": "stream",
     "text": [
      "\n"
     ]
    }
   ],
   "source": [
    "name=[]\n",
    "team=[]\n",
    "image=[]\n",
    "bat_style=[]\n",
    "bowl_style=[]\n",
    "play_role=[]\n",
    "description=[]\n",
    "\n",
    "print(f\"{'>'*20} Scrapping players details {'<'*20}\")\n",
    "print(f\"{'_'*60}\")\n",
    "for link in tqdm(players_url):\n",
    "    try: \n",
    "        player=page_content_getter(link)\n",
    "        details = details_fetcher(player)\n",
    "        name.append(details[0])\n",
    "        team.append(details[1])\n",
    "        bat_style.append(details[2])\n",
    "        bowl_style.append(details[3])\n",
    "        play_role.append(details[4])\n",
    "        description.append(details[5])\n",
    "    except Exception as e:\n",
    "        print(f\"Error in {link} \\nError:{e}\")\n",
    "        continue\n",
    "print(\"Data Scarpped successfully!!!\")\n",
    "data_dict ={\n",
    "    \"Name\": name,\n",
    "    \"Team\": team,\n",
    "    \"Batting_Style\": bat_style,\n",
    "    \"Bowling_Style\": bowl_style,\n",
    "    \"Playing_Role\": play_role,\n",
    "    \"Description\": description\n",
    "}\n",
    "\n",
    "print(\"Saving data into Dataframe........\")\n",
    "players_details = pd.DataFrame(data_dict)"
   ]
  },
  {
   "cell_type": "code",
   "execution_count": 178,
   "id": "ac4924b9",
   "metadata": {},
   "outputs": [],
   "source": [
    "players_details.to_csv(\"players_details.csv\",index=None)"
   ]
  },
  {
   "cell_type": "code",
   "execution_count": 172,
   "id": "18bb3313",
   "metadata": {},
   "outputs": [],
   "source": [
    "url = prefix+squad_links[0].get(\"href\")"
   ]
  },
  {
   "cell_type": "code",
   "execution_count": 173,
   "id": "ceb635f7",
   "metadata": {},
   "outputs": [],
   "source": [
    "img = page_content_getter(url).findAll(\"div\",{\"class\":\"ds-relative ds-flex ds-flex-row ds-space-x-4 ds-p-4 lg:ds-px-6\"})"
   ]
  },
  {
   "cell_type": "code",
   "execution_count": 179,
   "id": "0c201792",
   "metadata": {},
   "outputs": [
    {
     "data": {
      "text/html": [
       "<div>\n",
       "<style scoped>\n",
       "    .dataframe tbody tr th:only-of-type {\n",
       "        vertical-align: middle;\n",
       "    }\n",
       "\n",
       "    .dataframe tbody tr th {\n",
       "        vertical-align: top;\n",
       "    }\n",
       "\n",
       "    .dataframe thead th {\n",
       "        text-align: right;\n",
       "    }\n",
       "</style>\n",
       "<table border=\"1\" class=\"dataframe\">\n",
       "  <thead>\n",
       "    <tr style=\"text-align: right;\">\n",
       "      <th></th>\n",
       "      <th>Name</th>\n",
       "      <th>Team</th>\n",
       "      <th>Batting_Style</th>\n",
       "      <th>Bowling_Style</th>\n",
       "      <th>Playing_Role</th>\n",
       "      <th>Description</th>\n",
       "    </tr>\n",
       "  </thead>\n",
       "  <tbody>\n",
       "    <tr>\n",
       "      <th>0</th>\n",
       "      <td>Mohammad Nabi</td>\n",
       "      <td>Afghanistan</td>\n",
       "      <td>Right hand Bat</td>\n",
       "      <td>Right arm Offbreak</td>\n",
       "      <td>Allrounder</td>\n",
       "      <td>Mohammad Nabi hails from a well-to-do family t...</td>\n",
       "    </tr>\n",
       "    <tr>\n",
       "      <th>1</th>\n",
       "      <td>Azmatullah Omarzai</td>\n",
       "      <td>Afghanistan</td>\n",
       "      <td>Right hand Bat</td>\n",
       "      <td>Right arm Medium fast</td>\n",
       "      <td>Allrounder</td>\n",
       "      <td></td>\n",
       "    </tr>\n",
       "    <tr>\n",
       "      <th>2</th>\n",
       "      <td>Darwish Rasooli</td>\n",
       "      <td>Afghanistan</td>\n",
       "      <td>Right hand Bat</td>\n",
       "      <td>Right arm Offbreak</td>\n",
       "      <td>Top order Batter</td>\n",
       "      <td></td>\n",
       "    </tr>\n",
       "    <tr>\n",
       "      <th>3</th>\n",
       "      <td>Fareed Ahmad</td>\n",
       "      <td>Afghanistan</td>\n",
       "      <td>Farid Malik</td>\n",
       "      <td></td>\n",
       "      <td>Left hand Bat</td>\n",
       "      <td></td>\n",
       "    </tr>\n",
       "    <tr>\n",
       "      <th>4</th>\n",
       "      <td>Fazalhaq Farooqi</td>\n",
       "      <td>Afghanistan</td>\n",
       "      <td>Right hand Bat</td>\n",
       "      <td>Left arm Fast medium</td>\n",
       "      <td>Bowler</td>\n",
       "      <td></td>\n",
       "    </tr>\n",
       "    <tr>\n",
       "      <th>...</th>\n",
       "      <td>...</td>\n",
       "      <td>...</td>\n",
       "      <td>...</td>\n",
       "      <td>...</td>\n",
       "      <td>...</td>\n",
       "      <td>...</td>\n",
       "    </tr>\n",
       "    <tr>\n",
       "      <th>249</th>\n",
       "      <td>Blessing Muzarabani</td>\n",
       "      <td>Zimbabwe</td>\n",
       "      <td>Right hand Bat</td>\n",
       "      <td>Right arm Fast medium</td>\n",
       "      <td>Bowler</td>\n",
       "      <td></td>\n",
       "    </tr>\n",
       "    <tr>\n",
       "      <th>250</th>\n",
       "      <td>Richard Ngarava</td>\n",
       "      <td>Zimbabwe</td>\n",
       "      <td>Left hand Bat</td>\n",
       "      <td>Left arm Fast medium</td>\n",
       "      <td>Bowler</td>\n",
       "      <td></td>\n",
       "    </tr>\n",
       "    <tr>\n",
       "      <th>251</th>\n",
       "      <td>Milton Shumba</td>\n",
       "      <td>Zimbabwe</td>\n",
       "      <td>Left hand Bat</td>\n",
       "      <td>Slow Left arm Orthodox</td>\n",
       "      <td>Top order Batter</td>\n",
       "      <td></td>\n",
       "    </tr>\n",
       "    <tr>\n",
       "      <th>252</th>\n",
       "      <td>Sikandar Raza</td>\n",
       "      <td>Zimbabwe</td>\n",
       "      <td>Right hand Bat</td>\n",
       "      <td>Right arm Offbreak</td>\n",
       "      <td>Batting Allrounder</td>\n",
       "      <td>Sikandar Raza's story isn't that of your every...</td>\n",
       "    </tr>\n",
       "    <tr>\n",
       "      <th>253</th>\n",
       "      <td>Sean Williams</td>\n",
       "      <td>Zimbabwe</td>\n",
       "      <td>Left hand Bat</td>\n",
       "      <td>Slow Left arm Orthodox</td>\n",
       "      <td>Middle order Batter</td>\n",
       "      <td>Sean Williams is a bold, dynamic left-hand bat...</td>\n",
       "    </tr>\n",
       "  </tbody>\n",
       "</table>\n",
       "<p>254 rows × 6 columns</p>\n",
       "</div>"
      ],
      "text/plain": [
       "                    Name         Team   Batting_Style           Bowling_Style  \\\n",
       "0          Mohammad Nabi  Afghanistan  Right hand Bat      Right arm Offbreak   \n",
       "1     Azmatullah Omarzai  Afghanistan  Right hand Bat   Right arm Medium fast   \n",
       "2        Darwish Rasooli  Afghanistan  Right hand Bat      Right arm Offbreak   \n",
       "3           Fareed Ahmad  Afghanistan     Farid Malik                           \n",
       "4       Fazalhaq Farooqi  Afghanistan  Right hand Bat    Left arm Fast medium   \n",
       "..                   ...          ...             ...                     ...   \n",
       "249  Blessing Muzarabani     Zimbabwe  Right hand Bat   Right arm Fast medium   \n",
       "250      Richard Ngarava     Zimbabwe   Left hand Bat    Left arm Fast medium   \n",
       "251        Milton Shumba     Zimbabwe   Left hand Bat  Slow Left arm Orthodox   \n",
       "252        Sikandar Raza     Zimbabwe  Right hand Bat      Right arm Offbreak   \n",
       "253        Sean Williams     Zimbabwe   Left hand Bat  Slow Left arm Orthodox   \n",
       "\n",
       "            Playing_Role                                        Description  \n",
       "0             Allrounder  Mohammad Nabi hails from a well-to-do family t...  \n",
       "1             Allrounder                                                     \n",
       "2       Top order Batter                                                     \n",
       "3          Left hand Bat                                                     \n",
       "4                 Bowler                                                     \n",
       "..                   ...                                                ...  \n",
       "249               Bowler                                                     \n",
       "250               Bowler                                                     \n",
       "251     Top order Batter                                                     \n",
       "252   Batting Allrounder  Sikandar Raza's story isn't that of your every...  \n",
       "253  Middle order Batter  Sean Williams is a bold, dynamic left-hand bat...  \n",
       "\n",
       "[254 rows x 6 columns]"
      ]
     },
     "execution_count": 179,
     "metadata": {},
     "output_type": "execute_result"
    }
   ],
   "source": [
    "players_details"
   ]
  },
  {
   "cell_type": "code",
   "execution_count": 180,
   "id": "7db6ce82",
   "metadata": {},
   "outputs": [],
   "source": []
  },
  {
   "cell_type": "code",
   "execution_count": 186,
   "id": "6fa18ed9",
   "metadata": {},
   "outputs": [
    {
     "name": "stdout",
     "output_type": "stream",
     "text": [
      "Error occured:  HTTPSConnectionPool(host='www.espncricinfo.comhttps', port=443): Max retries exceeded with url: //www.espncricinfo.com/player/mohammad-nabi-25913 (Caused by NewConnectionError('<urllib3.connection.HTTPSConnection object at 0x000001A4B38B7730>: Failed to establish a new connection: [Errno 11001] getaddrinfo failed'))\n"
     ]
    }
   ],
   "source": [
    "img = page_content_getter(prefix+players_url[0])"
   ]
  },
  {
   "cell_type": "code",
   "execution_count": null,
   "id": "3b222ee7",
   "metadata": {},
   "outputs": [],
   "source": []
  },
  {
   "cell_type": "code",
   "execution_count": null,
   "id": "03efe778",
   "metadata": {},
   "outputs": [],
   "source": []
  }
 ],
 "metadata": {
  "kernelspec": {
   "display_name": "Python 3 (ipykernel)",
   "language": "python",
   "name": "python3"
  },
  "language_info": {
   "codemirror_mode": {
    "name": "ipython",
    "version": 3
   },
   "file_extension": ".py",
   "mimetype": "text/x-python",
   "name": "python",
   "nbconvert_exporter": "python",
   "pygments_lexer": "ipython3",
   "version": "3.9.12"
  }
 },
 "nbformat": 4,
 "nbformat_minor": 5
}
