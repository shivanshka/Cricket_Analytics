{
  "cells": [
    {
      "cell_type": "markdown",
      "id": "877aca51",
      "metadata": {
        "id": "877aca51"
      },
      "source": [
        "## Scrapping Players Details for T20 Men's Cricket WorldCup 2022"
      ]
    },
    {
      "cell_type": "code",
      "execution_count": 1,
      "id": "32f2930d",
      "metadata": {
        "id": "32f2930d"
      },
      "outputs": [],
      "source": [
        "from bs4 import BeautifulSoup as bs\n",
        "import requests\n",
        "import pandas as pd\n",
        "from tqdm import tqdm"
      ]
    },
    {
      "cell_type": "code",
      "execution_count": 2,
      "id": "e96b35b2",
      "metadata": {
        "id": "e96b35b2"
      },
      "outputs": [],
      "source": [
        "def page_content_getter(URL:str)-> bs:\n",
        "    try:\n",
        "        page_content = requests.get(URL).content\n",
        "        soup = bs(page_content,\"html.parser\")\n",
        "        return soup\n",
        "    except Exception as e:\n",
        "        print(\"Error occured: \",e)"
      ]
    },
    {
      "cell_type": "code",
      "source": [
        "def image_retriever(player_name:str):\n",
        "  player_search_name = \"+\".join(player_name.split())\n",
        "  URL = f\"https://www.google.com/search?q={player_search_name}+%3A\\\n",
        "  +cricbuzz+profile&tbm=isch&ved=2ahUKEwibjOy215H8AhX0jNgFHfHLCpwQ2\\\n",
        "  -cCegQIABAA&oq=Ben+Stokes+%3A+cricbuzz+profile&gs_lcp=CgNpbWcQAzIHCAAQgAQQGFCgDFj\\\n",
        "  YJGDXKGgAcAB4AIAB7gGIAdkPkgEFMC45LjKYAQCgAQGqAQtnd3Mtd2l6LWltZ8ABAQ&sclient=img&\\\n",
        "  ei=qqOmY5uPKfSZ4t4P8Zer4Ak&bih=657&biw=1366&rlz=1C1CHBF_enIN1009IN1013\"\n",
        "  page = page_content_getter(URL)\n",
        "  image = page.findAll(\"img\")[1].get(\"src\")\n",
        "  return image"
      ],
      "metadata": {
        "id": "gtU84Ns8BmHW"
      },
      "id": "gtU84Ns8BmHW",
      "execution_count": 3,
      "outputs": []
    },
    {
      "cell_type": "code",
      "source": [
        "def get_players_attributes(player:bs)->dict:\n",
        "  attr = dict()\n",
        "  box = player.findAll(\"div\",{\"class\":\"ds-grid lg:ds-grid-cols-3 ds-grid-cols-2 ds-gap-4 ds-mb-8\"})\n",
        "  inner_box = box[0].findAll(\"div\")\n",
        "  for info in inner_box:\n",
        "    attr[info.p.text] = info.span.h5.text\n",
        "    if info.p.text == \"Playing Role\":\n",
        "      break\n",
        "  return attr"
      ],
      "metadata": {
        "id": "oTpmDPmzIJUP"
      },
      "id": "oTpmDPmzIJUP",
      "execution_count": 4,
      "outputs": []
    },
    {
      "cell_type": "code",
      "execution_count": 5,
      "id": "c7ecc65c",
      "metadata": {
        "id": "c7ecc65c"
      },
      "outputs": [],
      "source": [
        "URL = \"https://www.espncricinfo.com/series/icc-men-s-t20-world-cup-2022-23-1298134/squads\"\n",
        "home_page = page_content_getter(URL)"
      ]
    },
    {
      "cell_type": "code",
      "source": [],
      "metadata": {
        "id": "1tkkUDu8tetx"
      },
      "id": "1tkkUDu8tetx",
      "execution_count": null,
      "outputs": []
    },
    {
      "cell_type": "markdown",
      "id": "18992b31",
      "metadata": {
        "id": "18992b31"
      },
      "source": [
        "#### Getting links for each team squad"
      ]
    },
    {
      "cell_type": "code",
      "execution_count": 6,
      "id": "50865865",
      "metadata": {
        "id": "50865865"
      },
      "outputs": [],
      "source": [
        "squad_links = home_page.findAll(\"div\",{\"class\":\"ds-mb-4\"})[0].findAll(\"a\")"
      ]
    },
    {
      "cell_type": "code",
      "execution_count": 7,
      "id": "4181848f",
      "metadata": {
        "colab": {
          "base_uri": "https://localhost:8080/"
        },
        "id": "4181848f",
        "outputId": "88ca514c-6020-45a0-9a6e-780c4ff6ce56"
      },
      "outputs": [
        {
          "output_type": "stream",
          "name": "stdout",
          "text": [
            ">>>>>>>>>>>>>>>>>>>> Getting links for each squads in the WorldCup <<<<<<<<<<<<<<<<<<<<\n",
            "____________________________________________________________\n"
          ]
        },
        {
          "output_type": "stream",
          "name": "stderr",
          "text": [
            "100%|██████████| 16/16 [00:06<00:00,  2.40it/s]\n"
          ]
        }
      ],
      "source": [
        "prefix = \"https://www.espncricinfo.com\"\n",
        "players_url=[]\n",
        "print(f\"{'>'*20} Getting links for each squads in the WorldCup {'<'*20}\")\n",
        "print(f\"{'_'*60}\")\n",
        "for url in tqdm(squad_links):\n",
        "    ur = prefix+url.get(\"href\")\n",
        "    squad = page_content_getter(ur).findAll(\"div\",{\"class\":\"ds-relative ds-flex ds-flex-row ds-space-x-4 ds-p-4 lg:ds-px-6\"})\n",
        "    for link in squad:\n",
        "        players_url.append(prefix+link.a.get(\"href\"))\n",
        "        "
      ]
    },
    {
      "cell_type": "code",
      "execution_count": null,
      "id": "b0ae602e",
      "metadata": {
        "id": "b0ae602e"
      },
      "outputs": [],
      "source": []
    },
    {
      "cell_type": "markdown",
      "id": "a0e9164c",
      "metadata": {
        "id": "a0e9164c"
      },
      "source": [
        "#### Collecting details for each player in the WorldCup Squad"
      ]
    },
    {
      "cell_type": "code",
      "execution_count": 8,
      "id": "2d842f73",
      "metadata": {
        "id": "2d842f73"
      },
      "outputs": [],
      "source": [
        " def details_fetcher(player:bs)->tuple:\n",
        "    name1 = player.findAll(\"h1\",{\"class\":\"ds-text-title-l ds-font-bold\"})[0].text\n",
        "    team1 = player.findAll(\"span\", {\"class\":\"ds-text-comfortable-s\"})[0].text\n",
        "    \n",
        "    attr = get_players_attributes(player)\n",
        "    play_role1 = attr[\"Playing Role\"]\n",
        "    bat_style1 = attr[\"Batting Style\"]\n",
        "    bowl_style1 = attr[\"Bowling Style\"] if \"Bowling Style\" in attr.keys() else ''\n",
        "    \n",
        "    description1 = player.findAll(\"div\",{\"class\":\"ci-player-bio-content\"})\n",
        "    if len(description1) != 0:\n",
        "        description1 = description1[0].p.text\n",
        "    else:\n",
        "        description1 = ''\n",
        "    return (name1, team1, bat_style1, bowl_style1, play_role1, description1)"
      ]
    },
    {
      "cell_type": "code",
      "execution_count": null,
      "id": "e06666b8",
      "metadata": {
        "colab": {
          "base_uri": "https://localhost:8080/"
        },
        "id": "e06666b8",
        "outputId": "4f54a97a-7c9e-4afe-ae5d-3cf1ca88601c"
      },
      "outputs": [
        {
          "output_type": "stream",
          "name": "stdout",
          "text": [
            ">>>>>>>>>>>>>>>>>>>> Scrapping players details <<<<<<<<<<<<<<<<<<<<\n",
            "____________________________________________________________\n"
          ]
        },
        {
          "output_type": "stream",
          "name": "stderr",
          "text": [
            "100%|██████████| 254/254 [03:37<00:00,  1.17it/s]"
          ]
        },
        {
          "output_type": "stream",
          "name": "stdout",
          "text": [
            "Data Scarpped successfully!!!\n",
            "Saving data into Dataframe........\n"
          ]
        },
        {
          "output_type": "stream",
          "name": "stderr",
          "text": [
            "\n"
          ]
        }
      ],
      "source": [
        "name=[]\n",
        "team=[]\n",
        "image=[]\n",
        "bat_style=[]\n",
        "bowl_style=[]\n",
        "play_role=[]\n",
        "description=[]\n",
        "\n",
        "print(f\"{'>'*20} Scrapping players details {'<'*20}\")\n",
        "print(f\"{'_'*60}\")\n",
        "for link in tqdm(players_url):\n",
        "    try: \n",
        "       player=page_content_getter(link)\n",
        "       details = details_fetcher(player)\n",
        "       name.append(details[0])\n",
        "       image.append(image_retriever(details[0]))\n",
        "       team.append(details[1])\n",
        "       bat_style.append(details[2])\n",
        "       bowl_style.append(details[3])\n",
        "       play_role.append(details[4])\n",
        "       description.append(details[5])\n",
        "    except Exception as e:\n",
        "        print(f\"Error in {link} \\nError:{e}\")\n",
        "        continue\n",
        "print(\"Data Scarpped successfully!!!\")\n",
        "data_dict ={\n",
        "    \"Name\": name,\n",
        "    \"Image\": image,\n",
        "    \"Team\": team,\n",
        "    \"Batting_Style\": bat_style,\n",
        "    \"Bowling_Style\": bowl_style,\n",
        "    \"Playing_Role\": play_role,\n",
        "    \"Description\": description\n",
        "}\n",
        "\n",
        "print(\"Saving data into Dataframe........\")\n",
        "players_details = pd.DataFrame(data_dict)"
      ]
    },
    {
      "cell_type": "code",
      "execution_count": null,
      "id": "ac4924b9",
      "metadata": {
        "id": "ac4924b9"
      },
      "outputs": [],
      "source": [
        "players_details.to_csv(\"dim_players_details.csv\",index=None)"
      ]
    },
    {
      "cell_type": "code",
      "execution_count": null,
      "id": "3b222ee7",
      "metadata": {
        "colab": {
          "base_uri": "https://localhost:8080/",
          "height": 872
        },
        "id": "3b222ee7",
        "outputId": "d74888f8-8796-467d-9345-72f2e84c1313"
      },
      "outputs": [
        {
          "output_type": "execute_result",
          "data": {
            "text/plain": [
              "               Name                                              Image  \\\n",
              "16      Aaron Finch  https://encrypted-tbn0.gstatic.com/images?q=tb...   \n",
              "17      Pat Cummins  https://encrypted-tbn0.gstatic.com/images?q=tb...   \n",
              "18      Ashton Agar  https://encrypted-tbn0.gstatic.com/images?q=tb...   \n",
              "19        Tim David  https://encrypted-tbn0.gstatic.com/images?q=tb...   \n",
              "20    Cameron Green  https://encrypted-tbn0.gstatic.com/images?q=tb...   \n",
              "21   Josh Hazlewood  https://encrypted-tbn0.gstatic.com/images?q=tb...   \n",
              "22   Mitchell Marsh  https://encrypted-tbn0.gstatic.com/images?q=tb...   \n",
              "23    Glenn Maxwell  https://encrypted-tbn0.gstatic.com/images?q=tb...   \n",
              "24  Kane Richardson  https://encrypted-tbn0.gstatic.com/images?q=tb...   \n",
              "25     Steven Smith  https://encrypted-tbn0.gstatic.com/images?q=tb...   \n",
              "26   Mitchell Starc  https://encrypted-tbn0.gstatic.com/images?q=tb...   \n",
              "27   Marcus Stoinis  https://encrypted-tbn0.gstatic.com/images?q=tb...   \n",
              "28     Matthew Wade  https://encrypted-tbn0.gstatic.com/images?q=tb...   \n",
              "29     David Warner  https://encrypted-tbn0.gstatic.com/images?q=tb...   \n",
              "30       Adam Zampa  https://encrypted-tbn0.gstatic.com/images?q=tb...   \n",
              "31      Josh Inglis  https://encrypted-tbn0.gstatic.com/images?q=tb...   \n",
              "\n",
              "         Team   Batting_Style           Bowling_Style         Playing_Role  \\\n",
              "16  Australia  Right hand Bat  Slow Left arm Orthodox     Top order Batter   \n",
              "17  Australia  Right hand Bat          Right arm Fast               Bowler   \n",
              "18  Australia   Left hand Bat  Slow Left arm Orthodox               Bowler   \n",
              "19  Australia  Right hand Bat      Right arm Offbreak  Middle order Batter   \n",
              "20  Australia  Right hand Bat   Right arm Fast medium   Batting Allrounder   \n",
              "21  Australia   Left hand Bat   Right arm Fast medium               Bowler   \n",
              "22  Australia  Right hand Bat        Right arm Medium           Allrounder   \n",
              "23  Australia  Right hand Bat      Right arm Offbreak   Batting Allrounder   \n",
              "24  Australia  Right hand Bat   Right arm Fast medium               Bowler   \n",
              "25  Australia  Right hand Bat         Legbreak Googly  Middle order Batter   \n",
              "26  Australia   Left hand Bat           Left arm Fast               Bowler   \n",
              "27  Australia  Right hand Bat        Right arm Medium   Batting Allrounder   \n",
              "28  Australia   Left hand Bat        Right arm Medium  Wicketkeeper Batter   \n",
              "29  Australia   Left hand Bat                Legbreak       Opening Batter   \n",
              "30  Australia  Right hand Bat         Legbreak Googly               Bowler   \n",
              "31  Australia  Right hand Bat                          Wicketkeeper Batter   \n",
              "\n",
              "                                          Description  \n",
              "16  A solidly built, aggressive batter from a coun...  \n",
              "17  Earmarked as a potential star from a young age...  \n",
              "18  Ashton Agar initially turned almost as many he...  \n",
              "19  Mumbai Indians' decision to sign Tim David for...  \n",
              "20  Contracted to Western Australia as a schoolboy...  \n",
              "21  A tall and accurate fast bowler who is unrelen...  \n",
              "22  Part of one of the most well-known family name...  \n",
              "23  One of the fastest scorers in world cricket, G...  \n",
              "24  A pace bowler who has often been on the fringe...  \n",
              "25  In a career of twists and turns, Steven Smith ...  \n",
              "26  First there was Johnson, then there was Starc....  \n",
              "27  A powerful, versatile batter and medium-pace b...  \n",
              "28  It has been a career of reinvention for Matthe...  \n",
              "29  David Warner's extraordinary batting feats in ...  \n",
              "30  An energetic and competitive legspinner, Adam ...  \n",
              "31  Wicketkeeper-batter Josh Inglis, who was born ...  "
            ],
            "text/html": [
              "\n",
              "  <div id=\"df-a8022bfb-87bd-4f5e-8ec2-0d11030a8aff\">\n",
              "    <div class=\"colab-df-container\">\n",
              "      <div>\n",
              "<style scoped>\n",
              "    .dataframe tbody tr th:only-of-type {\n",
              "        vertical-align: middle;\n",
              "    }\n",
              "\n",
              "    .dataframe tbody tr th {\n",
              "        vertical-align: top;\n",
              "    }\n",
              "\n",
              "    .dataframe thead th {\n",
              "        text-align: right;\n",
              "    }\n",
              "</style>\n",
              "<table border=\"1\" class=\"dataframe\">\n",
              "  <thead>\n",
              "    <tr style=\"text-align: right;\">\n",
              "      <th></th>\n",
              "      <th>Name</th>\n",
              "      <th>Image</th>\n",
              "      <th>Team</th>\n",
              "      <th>Batting_Style</th>\n",
              "      <th>Bowling_Style</th>\n",
              "      <th>Playing_Role</th>\n",
              "      <th>Description</th>\n",
              "    </tr>\n",
              "  </thead>\n",
              "  <tbody>\n",
              "    <tr>\n",
              "      <th>16</th>\n",
              "      <td>Aaron Finch</td>\n",
              "      <td>https://encrypted-tbn0.gstatic.com/images?q=tb...</td>\n",
              "      <td>Australia</td>\n",
              "      <td>Right hand Bat</td>\n",
              "      <td>Slow Left arm Orthodox</td>\n",
              "      <td>Top order Batter</td>\n",
              "      <td>A solidly built, aggressive batter from a coun...</td>\n",
              "    </tr>\n",
              "    <tr>\n",
              "      <th>17</th>\n",
              "      <td>Pat Cummins</td>\n",
              "      <td>https://encrypted-tbn0.gstatic.com/images?q=tb...</td>\n",
              "      <td>Australia</td>\n",
              "      <td>Right hand Bat</td>\n",
              "      <td>Right arm Fast</td>\n",
              "      <td>Bowler</td>\n",
              "      <td>Earmarked as a potential star from a young age...</td>\n",
              "    </tr>\n",
              "    <tr>\n",
              "      <th>18</th>\n",
              "      <td>Ashton Agar</td>\n",
              "      <td>https://encrypted-tbn0.gstatic.com/images?q=tb...</td>\n",
              "      <td>Australia</td>\n",
              "      <td>Left hand Bat</td>\n",
              "      <td>Slow Left arm Orthodox</td>\n",
              "      <td>Bowler</td>\n",
              "      <td>Ashton Agar initially turned almost as many he...</td>\n",
              "    </tr>\n",
              "    <tr>\n",
              "      <th>19</th>\n",
              "      <td>Tim David</td>\n",
              "      <td>https://encrypted-tbn0.gstatic.com/images?q=tb...</td>\n",
              "      <td>Australia</td>\n",
              "      <td>Right hand Bat</td>\n",
              "      <td>Right arm Offbreak</td>\n",
              "      <td>Middle order Batter</td>\n",
              "      <td>Mumbai Indians' decision to sign Tim David for...</td>\n",
              "    </tr>\n",
              "    <tr>\n",
              "      <th>20</th>\n",
              "      <td>Cameron Green</td>\n",
              "      <td>https://encrypted-tbn0.gstatic.com/images?q=tb...</td>\n",
              "      <td>Australia</td>\n",
              "      <td>Right hand Bat</td>\n",
              "      <td>Right arm Fast medium</td>\n",
              "      <td>Batting Allrounder</td>\n",
              "      <td>Contracted to Western Australia as a schoolboy...</td>\n",
              "    </tr>\n",
              "    <tr>\n",
              "      <th>21</th>\n",
              "      <td>Josh Hazlewood</td>\n",
              "      <td>https://encrypted-tbn0.gstatic.com/images?q=tb...</td>\n",
              "      <td>Australia</td>\n",
              "      <td>Left hand Bat</td>\n",
              "      <td>Right arm Fast medium</td>\n",
              "      <td>Bowler</td>\n",
              "      <td>A tall and accurate fast bowler who is unrelen...</td>\n",
              "    </tr>\n",
              "    <tr>\n",
              "      <th>22</th>\n",
              "      <td>Mitchell Marsh</td>\n",
              "      <td>https://encrypted-tbn0.gstatic.com/images?q=tb...</td>\n",
              "      <td>Australia</td>\n",
              "      <td>Right hand Bat</td>\n",
              "      <td>Right arm Medium</td>\n",
              "      <td>Allrounder</td>\n",
              "      <td>Part of one of the most well-known family name...</td>\n",
              "    </tr>\n",
              "    <tr>\n",
              "      <th>23</th>\n",
              "      <td>Glenn Maxwell</td>\n",
              "      <td>https://encrypted-tbn0.gstatic.com/images?q=tb...</td>\n",
              "      <td>Australia</td>\n",
              "      <td>Right hand Bat</td>\n",
              "      <td>Right arm Offbreak</td>\n",
              "      <td>Batting Allrounder</td>\n",
              "      <td>One of the fastest scorers in world cricket, G...</td>\n",
              "    </tr>\n",
              "    <tr>\n",
              "      <th>24</th>\n",
              "      <td>Kane Richardson</td>\n",
              "      <td>https://encrypted-tbn0.gstatic.com/images?q=tb...</td>\n",
              "      <td>Australia</td>\n",
              "      <td>Right hand Bat</td>\n",
              "      <td>Right arm Fast medium</td>\n",
              "      <td>Bowler</td>\n",
              "      <td>A pace bowler who has often been on the fringe...</td>\n",
              "    </tr>\n",
              "    <tr>\n",
              "      <th>25</th>\n",
              "      <td>Steven Smith</td>\n",
              "      <td>https://encrypted-tbn0.gstatic.com/images?q=tb...</td>\n",
              "      <td>Australia</td>\n",
              "      <td>Right hand Bat</td>\n",
              "      <td>Legbreak Googly</td>\n",
              "      <td>Middle order Batter</td>\n",
              "      <td>In a career of twists and turns, Steven Smith ...</td>\n",
              "    </tr>\n",
              "    <tr>\n",
              "      <th>26</th>\n",
              "      <td>Mitchell Starc</td>\n",
              "      <td>https://encrypted-tbn0.gstatic.com/images?q=tb...</td>\n",
              "      <td>Australia</td>\n",
              "      <td>Left hand Bat</td>\n",
              "      <td>Left arm Fast</td>\n",
              "      <td>Bowler</td>\n",
              "      <td>First there was Johnson, then there was Starc....</td>\n",
              "    </tr>\n",
              "    <tr>\n",
              "      <th>27</th>\n",
              "      <td>Marcus Stoinis</td>\n",
              "      <td>https://encrypted-tbn0.gstatic.com/images?q=tb...</td>\n",
              "      <td>Australia</td>\n",
              "      <td>Right hand Bat</td>\n",
              "      <td>Right arm Medium</td>\n",
              "      <td>Batting Allrounder</td>\n",
              "      <td>A powerful, versatile batter and medium-pace b...</td>\n",
              "    </tr>\n",
              "    <tr>\n",
              "      <th>28</th>\n",
              "      <td>Matthew Wade</td>\n",
              "      <td>https://encrypted-tbn0.gstatic.com/images?q=tb...</td>\n",
              "      <td>Australia</td>\n",
              "      <td>Left hand Bat</td>\n",
              "      <td>Right arm Medium</td>\n",
              "      <td>Wicketkeeper Batter</td>\n",
              "      <td>It has been a career of reinvention for Matthe...</td>\n",
              "    </tr>\n",
              "    <tr>\n",
              "      <th>29</th>\n",
              "      <td>David Warner</td>\n",
              "      <td>https://encrypted-tbn0.gstatic.com/images?q=tb...</td>\n",
              "      <td>Australia</td>\n",
              "      <td>Left hand Bat</td>\n",
              "      <td>Legbreak</td>\n",
              "      <td>Opening Batter</td>\n",
              "      <td>David Warner's extraordinary batting feats in ...</td>\n",
              "    </tr>\n",
              "    <tr>\n",
              "      <th>30</th>\n",
              "      <td>Adam Zampa</td>\n",
              "      <td>https://encrypted-tbn0.gstatic.com/images?q=tb...</td>\n",
              "      <td>Australia</td>\n",
              "      <td>Right hand Bat</td>\n",
              "      <td>Legbreak Googly</td>\n",
              "      <td>Bowler</td>\n",
              "      <td>An energetic and competitive legspinner, Adam ...</td>\n",
              "    </tr>\n",
              "    <tr>\n",
              "      <th>31</th>\n",
              "      <td>Josh Inglis</td>\n",
              "      <td>https://encrypted-tbn0.gstatic.com/images?q=tb...</td>\n",
              "      <td>Australia</td>\n",
              "      <td>Right hand Bat</td>\n",
              "      <td></td>\n",
              "      <td>Wicketkeeper Batter</td>\n",
              "      <td>Wicketkeeper-batter Josh Inglis, who was born ...</td>\n",
              "    </tr>\n",
              "  </tbody>\n",
              "</table>\n",
              "</div>\n",
              "      <button class=\"colab-df-convert\" onclick=\"convertToInteractive('df-a8022bfb-87bd-4f5e-8ec2-0d11030a8aff')\"\n",
              "              title=\"Convert this dataframe to an interactive table.\"\n",
              "              style=\"display:none;\">\n",
              "        \n",
              "  <svg xmlns=\"http://www.w3.org/2000/svg\" height=\"24px\"viewBox=\"0 0 24 24\"\n",
              "       width=\"24px\">\n",
              "    <path d=\"M0 0h24v24H0V0z\" fill=\"none\"/>\n",
              "    <path d=\"M18.56 5.44l.94 2.06.94-2.06 2.06-.94-2.06-.94-.94-2.06-.94 2.06-2.06.94zm-11 1L8.5 8.5l.94-2.06 2.06-.94-2.06-.94L8.5 2.5l-.94 2.06-2.06.94zm10 10l.94 2.06.94-2.06 2.06-.94-2.06-.94-.94-2.06-.94 2.06-2.06.94z\"/><path d=\"M17.41 7.96l-1.37-1.37c-.4-.4-.92-.59-1.43-.59-.52 0-1.04.2-1.43.59L10.3 9.45l-7.72 7.72c-.78.78-.78 2.05 0 2.83L4 21.41c.39.39.9.59 1.41.59.51 0 1.02-.2 1.41-.59l7.78-7.78 2.81-2.81c.8-.78.8-2.07 0-2.86zM5.41 20L4 18.59l7.72-7.72 1.47 1.35L5.41 20z\"/>\n",
              "  </svg>\n",
              "      </button>\n",
              "      \n",
              "  <style>\n",
              "    .colab-df-container {\n",
              "      display:flex;\n",
              "      flex-wrap:wrap;\n",
              "      gap: 12px;\n",
              "    }\n",
              "\n",
              "    .colab-df-convert {\n",
              "      background-color: #E8F0FE;\n",
              "      border: none;\n",
              "      border-radius: 50%;\n",
              "      cursor: pointer;\n",
              "      display: none;\n",
              "      fill: #1967D2;\n",
              "      height: 32px;\n",
              "      padding: 0 0 0 0;\n",
              "      width: 32px;\n",
              "    }\n",
              "\n",
              "    .colab-df-convert:hover {\n",
              "      background-color: #E2EBFA;\n",
              "      box-shadow: 0px 1px 2px rgba(60, 64, 67, 0.3), 0px 1px 3px 1px rgba(60, 64, 67, 0.15);\n",
              "      fill: #174EA6;\n",
              "    }\n",
              "\n",
              "    [theme=dark] .colab-df-convert {\n",
              "      background-color: #3B4455;\n",
              "      fill: #D2E3FC;\n",
              "    }\n",
              "\n",
              "    [theme=dark] .colab-df-convert:hover {\n",
              "      background-color: #434B5C;\n",
              "      box-shadow: 0px 1px 3px 1px rgba(0, 0, 0, 0.15);\n",
              "      filter: drop-shadow(0px 1px 2px rgba(0, 0, 0, 0.3));\n",
              "      fill: #FFFFFF;\n",
              "    }\n",
              "  </style>\n",
              "\n",
              "      <script>\n",
              "        const buttonEl =\n",
              "          document.querySelector('#df-a8022bfb-87bd-4f5e-8ec2-0d11030a8aff button.colab-df-convert');\n",
              "        buttonEl.style.display =\n",
              "          google.colab.kernel.accessAllowed ? 'block' : 'none';\n",
              "\n",
              "        async function convertToInteractive(key) {\n",
              "          const element = document.querySelector('#df-a8022bfb-87bd-4f5e-8ec2-0d11030a8aff');\n",
              "          const dataTable =\n",
              "            await google.colab.kernel.invokeFunction('convertToInteractive',\n",
              "                                                     [key], {});\n",
              "          if (!dataTable) return;\n",
              "\n",
              "          const docLinkHtml = 'Like what you see? Visit the ' +\n",
              "            '<a target=\"_blank\" href=https://colab.research.google.com/notebooks/data_table.ipynb>data table notebook</a>'\n",
              "            + ' to learn more about interactive tables.';\n",
              "          element.innerHTML = '';\n",
              "          dataTable['output_type'] = 'display_data';\n",
              "          await google.colab.output.renderOutput(dataTable, element);\n",
              "          const docLink = document.createElement('div');\n",
              "          docLink.innerHTML = docLinkHtml;\n",
              "          element.appendChild(docLink);\n",
              "        }\n",
              "      </script>\n",
              "    </div>\n",
              "  </div>\n",
              "  "
            ]
          },
          "metadata": {},
          "execution_count": 69
        }
      ],
      "source": [
        "players_details[players_details[\"Team\"]==\"Australia\"]"
      ]
    },
    {
      "cell_type": "code",
      "source": [],
      "metadata": {
        "id": "1KLC4qAUHH8s"
      },
      "id": "1KLC4qAUHH8s",
      "execution_count": null,
      "outputs": []
    },
    {
      "cell_type": "markdown",
      "source": [
        "## Player Career Details Scrapping"
      ],
      "metadata": {
        "id": "Y-5-VXBIrk3Y"
      },
      "id": "Y-5-VXBIrk3Y"
    },
    {
      "cell_type": "code",
      "source": [
        "def career_details(URL:str)->dict:\n",
        "  final_dict = dict()\n",
        "  player=page_content_getter(URL)\n",
        "  box1 = player.findAll(\"div\",{\"class\":\"ds-p-0\"})\n",
        "  box2 = box1[5].findAll(\"div\")\n",
        "  name = player.findAll(\"h1\",{\"class\":\"ds-text-title-l ds-font-bold\"})[0].text\n",
        "\n",
        "  stats_type = box2[0].h5.text.split()[0]\n",
        "  df1 = pd.read_html(str(box2[1]))[0]\n",
        "  df1_dict = df1.set_index(\"Format\").T.to_dict()\n",
        "  final_dict[stats_type]= df1_dict[\"T20I\"] if \"T20I\" in df1_dict.keys() else \"Debut\"\n",
        "\n",
        "  stats_type = box2[2].h5.text.split()[0]\n",
        "  df2 = pd.read_html(str(box2[2]))[0]\n",
        "  df2_dict = df2.set_index(\"Format\").T.to_dict()\n",
        "  final_dict[stats_type]= df2_dict[\"T20I\"] if \"T20I\" in df1_dict.keys() else \"Debut\"\n",
        "  return name, final_dict"
      ],
      "metadata": {
        "id": "JlxJJZpB9WBo"
      },
      "id": "JlxJJZpB9WBo",
      "execution_count": 9,
      "outputs": []
    },
    {
      "cell_type": "code",
      "source": [
        "career_bat = dict()\n",
        "career_bowl = dict()\n",
        "for player in tqdm(players_url):\n",
        "  career_bat[career_details(player)[0]] = career_details(player)[1][\"Batting\"]\n",
        "  career_bowl[career_details(player)[0]] = career_details(player)[1][\"Bowling\"]"
      ],
      "metadata": {
        "id": "THHFqis0BqPS",
        "colab": {
          "base_uri": "https://localhost:8080/"
        },
        "outputId": "1946cc10-223c-4c37-c0eb-767bc1874029"
      },
      "id": "THHFqis0BqPS",
      "execution_count": 10,
      "outputs": [
        {
          "output_type": "stream",
          "name": "stderr",
          "text": [
            "100%|██████████| 254/254 [04:03<00:00,  1.04it/s]\n"
          ]
        }
      ]
    },
    {
      "cell_type": "code",
      "source": [
        "bat_career_df = pd.DataFrame(career_bat).T.reset_index()\n",
        "bat_career_df = bat_career_df.rename(columns={\"index\":\"Name\"})\n",
        "bat_career_df.drop(columns=[\"Ct\",\"St\",\"BF\"],inplace=True)"
      ],
      "metadata": {
        "id": "8t5O0rPFF5qC"
      },
      "id": "8t5O0rPFF5qC",
      "execution_count": 11,
      "outputs": []
    },
    {
      "cell_type": "code",
      "source": [
        "bowl_career_df = pd.DataFrame(career_bowl).T.reset_index()\n",
        "bowl_career_df = bowl_career_df.rename(columns={\"index\":\"Name\"})\n",
        "bowl_career_df.drop(columns=[\"BBI\",\"10w\"],inplace=True)"
      ],
      "metadata": {
        "id": "NByHh8dHKNBI"
      },
      "id": "NByHh8dHKNBI",
      "execution_count": 12,
      "outputs": []
    },
    {
      "cell_type": "code",
      "source": [
        "bat_career_df.to_csv(\"player_bat_career.csv\", index=None)\n",
        "bowl_career_df.to_csv(\"player_bowl_career.csv\", index=None)"
      ],
      "metadata": {
        "id": "kska_bViMuev"
      },
      "id": "kska_bViMuev",
      "execution_count": 13,
      "outputs": []
    }
  ],
  "metadata": {
    "kernelspec": {
      "display_name": "Python 3 (ipykernel)",
      "language": "python",
      "name": "python3"
    },
    "language_info": {
      "codemirror_mode": {
        "name": "ipython",
        "version": 3
      },
      "file_extension": ".py",
      "mimetype": "text/x-python",
      "name": "python",
      "nbconvert_exporter": "python",
      "pygments_lexer": "ipython3",
      "version": "3.9.12"
    },
    "colab": {
      "provenance": []
    }
  },
  "nbformat": 4,
  "nbformat_minor": 5
}